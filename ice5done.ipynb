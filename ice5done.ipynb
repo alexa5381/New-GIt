{
 "cells": [
  {
   "cell_type": "markdown",
   "id": "7735b130",
   "metadata": {},
   "source": [
    "# 🔹 Python Functions - Student Exercises\n",
    "### **Instructions:**\n",
    "- Complete each exercise by writing a function.\n",
    "- Use loops (`for`, `while`) and `if` conditions where necessary.\n",
    "- Test your functions with different inputs.\n"
   ]
  },
  {
   "cell_type": "markdown",
   "id": "a46ed94b",
   "metadata": {},
   "source": [
    "## **📌 Exercise 1: Temperature Converter**\n",
    "### **Task:**  \n",
    "Write a function `celsius_to_fahrenheit(celsius)` that converts a temperature from Celsius to Fahrenheit.\n",
    "\n",
    "### **Formula:**\n",
    "$\n",
    "F = \\left(\\frac{9}{5} \\times C\\right) + 32\n",
    "$\n",
    "\n",
    "### **Example Runs:**"
   ]
  },
  {
   "cell_type": "code",
   "execution_count": 1,
   "id": "bbe9f001",
   "metadata": {},
   "outputs": [
    {
     "name": "stdout",
     "output_type": "stream",
     "text": [
      "32.0\n",
      "77.0\n",
      "212.0\n"
     ]
    }
   ],
   "source": [
    "#convert celsius to farhrenheit \n",
    "\n",
    "#division in python is / and times is *. but dont forget to put in paraethesis since it can do it in order \n",
    "\n",
    "#use def ro define the function \n",
    "\n",
    "def celsius_to_fahrenheit(celsius):\n",
    "    fahrenheit = (celsius * (9/5)) + 32\n",
    "    return fahrenheit\n",
    "\n",
    "\n",
    "# Test cases\n",
    "print(celsius_to_fahrenheit(0))   # Expected: 32.0\n",
    "print(celsius_to_fahrenheit(25))  # Expected: 77.0\n",
    "print(celsius_to_fahrenheit(100)) # Expected: 212.0"
   ]
  },
  {
   "cell_type": "markdown",
   "id": "94f89d3d",
   "metadata": {},
   "source": [
    "## **📌 Exercise 2: Multiplication Table Generator**\n",
    "### **Task:**  \n",
    "Write a function `multiplication_table(n)` that prints the multiplication table for a number up to 10.\n",
    "\n",
    "### **Example Run:**"
   ]
  },
  {
   "cell_type": "code",
   "execution_count": 3,
   "id": "4c6204d4",
   "metadata": {},
   "outputs": [
    {
     "name": "stdout",
     "output_type": "stream",
     "text": [
      "3 * 1 = 3\n",
      "3 * 2 = 6\n",
      "3 * 3 = 9\n",
      "3 * 4 = 12\n",
      "3 * 5 = 15\n",
      "3 * 6 = 18\n",
      "3 * 7 = 21\n",
      "3 * 8 = 24\n",
      "3 * 9 = 27\n",
      "3 * 10 = 30\n"
     ]
    }
   ],
   "source": [
    "#define the function\n",
    "def multiplication_table(n):\n",
    "    #range 1-10 however use 11 so it ends at 10\n",
    "    for i in range (1,11):\n",
    "        #write where it prints the number. after the = print the answer\n",
    "        print(f\"{n} * {i} = {n * i}\")\n",
    "\n",
    "# Test case\n",
    "multiplication_table(3)"
   ]
  },
  {
   "cell_type": "markdown",
   "id": "a89389f6",
   "metadata": {},
   "source": [
    "## **📌 Exercise 3: Check if a Number is Prime**\n",
    "### **Task:**  \n",
    "Write a function `is_prime(n)` that checks if a number `n` is prime. \n",
    "A prime number is a number greater than 1 that can only be divided by 1 and itself without leaving a remainder.\n",
    "\n",
    "### **Example Runs:**"
   ]
  },
  {
   "cell_type": "code",
   "execution_count": 8,
   "id": "bd6adc22",
   "metadata": {},
   "outputs": [
    {
     "name": "stdout",
     "output_type": "stream",
     "text": [
      "True\n",
      "False\n",
      "True\n"
     ]
    }
   ],
   "source": [
    "#define the funtion\n",
    "def is_prime(n):\n",
    "    #number cant equal 1 or else it will be false (remainder )\n",
    "    if n<= 1:\n",
    "        return False\n",
    "    #have to start range at 2 because thats how we check for the remainder \n",
    "    for i in range(2, n):\n",
    "        # % = remainder!\n",
    "        if n % i == 0:\n",
    "            return False\n",
    "    return True\n",
    "        #pretty easy did this one before \n",
    "\n",
    "\n",
    "# Test cases\n",
    "print(is_prime(7))  # Expected: True\n",
    "print(is_prime(10)) # Expected: False\n",
    "print(is_prime(2))  # Expected: True"
   ]
  },
  {
   "cell_type": "markdown",
   "id": "a2e3e0b9",
   "metadata": {},
   "source": [
    "## **📌 Exercise 4: Counting Digits in a Number**\n",
    "### **Task:**  \n",
    "Write a function `sum_of_digits(n)` that calculates the sum of all digits in a number.\n",
    "\n",
    "### **Example Runs:**"
   ]
  },
  {
   "cell_type": "code",
   "execution_count": 11,
   "id": "0e5e5857",
   "metadata": {},
   "outputs": [
    {
     "name": "stdout",
     "output_type": "stream",
     "text": [
      "6\n",
      "18\n",
      "17\n"
     ]
    }
   ],
   "source": [
    "#define the function\n",
    "\n",
    "def sum_of_digits(n):\n",
    "    #this makes the total = 0 so it will add on \n",
    "    total = 0 \n",
    "    #str = string\n",
    "    for digits in str(n):\n",
    "        # add each string \n",
    "        total += int(digits)\n",
    "    return total\n",
    "# Test cases\n",
    "print(sum_of_digits(123))   # Expected output: 6 (1 + 2 + 3)\n",
    "print(sum_of_digits(567))   # Expected output: 18 (5 + 6 + 7)\n",
    "print(sum_of_digits(89))    # Expected output: 17 (8 + 9)"
   ]
  },
  {
   "cell_type": "markdown",
   "id": "766bd367",
   "metadata": {},
   "source": [
    "## **📌 Exercise 5: Find the Greatest of Three Numbers**\n",
    "### **Task:**  \n",
    "Write a function `max_of_three(a, b, c)` that returns the largest of three numbers.\n",
    "\n",
    "### **Example Runs:**"
   ]
  },
  {
   "cell_type": "code",
   "execution_count": 6,
   "id": "fd8d1f6c",
   "metadata": {},
   "outputs": [
    {
     "name": "stdout",
     "output_type": "stream",
     "text": [
      "20\n",
      "8\n",
      "-2\n"
     ]
    }
   ],
   "source": [
    "def max_of_three(a, b, c):\n",
    "    #looking at the chart that has all of the functions like abs, min, max, etc\n",
    "    return max(a, b, c)\n",
    "\n",
    "# Test cases\n",
    "print(max_of_three(10, 20, 5))  # Expected: 20\n",
    "print(max_of_three(3, 8, 8))    # Expected: 8\n",
    "print(max_of_three(-5, -2, -10)) # Expected: -2"
   ]
  }
 ],
 "metadata": {
  "kernelspec": {
   "display_name": "Python 3",
   "language": "python",
   "name": "python3"
  },
  "language_info": {
   "codemirror_mode": {
    "name": "ipython",
    "version": 3
   },
   "file_extension": ".py",
   "mimetype": "text/x-python",
   "name": "python",
   "nbconvert_exporter": "python",
   "pygments_lexer": "ipython3",
   "version": "3.13.1"
  }
 },
 "nbformat": 4,
 "nbformat_minor": 5
}
