{
 "cells": [
  {
   "cell_type": "markdown",
   "metadata": {},
   "source": [
    "## Project\n",
    "\n",
    "This project analyzes U.S. unemployment rates by age and gender using a seasonally adjusted dataset from Kaggle. \n",
    "\n",
    "**Research Questions:**\n",
    "1. What does the unemployment dataset look like?\n",
    "2. What is the average unemployment rate in this dataset?\n",
    "3. What are the highest and lowest unemployment rates recorded in the dataset?\n",
    "4. On average, how do unemployment rates compare between males and females?\n",
    "5. Can we visualize the difference in average unemployment rates between males and females using a bar chart?\n",
    "\n",
    "\n",
    "\n"
   ]
  },
  {
   "cell_type": "code",
   "execution_count": 16,
   "metadata": {},
   "outputs": [
    {
     "data": {
      "text/html": [
       "<div>\n",
       "<style scoped>\n",
       "    .dataframe tbody tr th:only-of-type {\n",
       "        vertical-align: middle;\n",
       "    }\n",
       "\n",
       "    .dataframe tbody tr th {\n",
       "        vertical-align: top;\n",
       "    }\n",
       "\n",
       "    .dataframe thead th {\n",
       "        text-align: right;\n",
       "    }\n",
       "</style>\n",
       "<table border=\"1\" class=\"dataframe\">\n",
       "  <thead>\n",
       "    <tr style=\"text-align: right;\">\n",
       "      <th></th>\n",
       "      <th>date</th>\n",
       "      <th>overall_rate</th>\n",
       "      <th>age_16_17_rate</th>\n",
       "      <th>age_16_19_rate</th>\n",
       "      <th>age_18_19_rate</th>\n",
       "      <th>age_16_24_rate</th>\n",
       "      <th>age_20_24_rate</th>\n",
       "      <th>age_25_34_rate</th>\n",
       "      <th>age_25_54_rate</th>\n",
       "      <th>age_35_44_rate</th>\n",
       "      <th>age_45_54_rate</th>\n",
       "      <th>age_20plus_rate</th>\n",
       "      <th>age_25plus_rate</th>\n",
       "      <th>age_55plus_rate</th>\n",
       "    </tr>\n",
       "  </thead>\n",
       "  <tbody>\n",
       "    <tr>\n",
       "      <th>0</th>\n",
       "      <td>1948-01-01</td>\n",
       "      <td>3.4</td>\n",
       "      <td>9.4</td>\n",
       "      <td>8.5</td>\n",
       "      <td>8.3</td>\n",
       "      <td>6.8</td>\n",
       "      <td>5.8</td>\n",
       "      <td>3.0</td>\n",
       "      <td>2.5</td>\n",
       "      <td>2.0</td>\n",
       "      <td>2.2</td>\n",
       "      <td>3.0</td>\n",
       "      <td>2.6</td>\n",
       "      <td>2.9</td>\n",
       "    </tr>\n",
       "    <tr>\n",
       "      <th>1</th>\n",
       "      <td>1948-02-01</td>\n",
       "      <td>3.8</td>\n",
       "      <td>13.1</td>\n",
       "      <td>10.0</td>\n",
       "      <td>8.2</td>\n",
       "      <td>7.7</td>\n",
       "      <td>6.3</td>\n",
       "      <td>3.3</td>\n",
       "      <td>2.9</td>\n",
       "      <td>2.5</td>\n",
       "      <td>2.8</td>\n",
       "      <td>3.3</td>\n",
       "      <td>2.9</td>\n",
       "      <td>3.1</td>\n",
       "    </tr>\n",
       "    <tr>\n",
       "      <th>2</th>\n",
       "      <td>1948-03-01</td>\n",
       "      <td>4.0</td>\n",
       "      <td>13.0</td>\n",
       "      <td>10.5</td>\n",
       "      <td>8.9</td>\n",
       "      <td>8.7</td>\n",
       "      <td>7.6</td>\n",
       "      <td>2.9</td>\n",
       "      <td>2.8</td>\n",
       "      <td>2.7</td>\n",
       "      <td>2.6</td>\n",
       "      <td>3.5</td>\n",
       "      <td>2.8</td>\n",
       "      <td>3.0</td>\n",
       "    </tr>\n",
       "    <tr>\n",
       "      <th>3</th>\n",
       "      <td>1948-04-01</td>\n",
       "      <td>3.9</td>\n",
       "      <td>11.2</td>\n",
       "      <td>9.5</td>\n",
       "      <td>8.6</td>\n",
       "      <td>7.8</td>\n",
       "      <td>6.8</td>\n",
       "      <td>3.4</td>\n",
       "      <td>3.0</td>\n",
       "      <td>2.9</td>\n",
       "      <td>2.6</td>\n",
       "      <td>3.5</td>\n",
       "      <td>3.0</td>\n",
       "      <td>3.0</td>\n",
       "    </tr>\n",
       "    <tr>\n",
       "      <th>4</th>\n",
       "      <td>1948-05-01</td>\n",
       "      <td>3.5</td>\n",
       "      <td>6.5</td>\n",
       "      <td>7.0</td>\n",
       "      <td>7.9</td>\n",
       "      <td>6.7</td>\n",
       "      <td>6.6</td>\n",
       "      <td>3.0</td>\n",
       "      <td>2.7</td>\n",
       "      <td>2.6</td>\n",
       "      <td>2.4</td>\n",
       "      <td>3.3</td>\n",
       "      <td>2.8</td>\n",
       "      <td>3.1</td>\n",
       "    </tr>\n",
       "  </tbody>\n",
       "</table>\n",
       "</div>"
      ],
      "text/plain": [
       "         date  overall_rate  age_16_17_rate  age_16_19_rate  age_18_19_rate  \\\n",
       "0  1948-01-01           3.4             9.4             8.5             8.3   \n",
       "1  1948-02-01           3.8            13.1            10.0             8.2   \n",
       "2  1948-03-01           4.0            13.0            10.5             8.9   \n",
       "3  1948-04-01           3.9            11.2             9.5             8.6   \n",
       "4  1948-05-01           3.5             6.5             7.0             7.9   \n",
       "\n",
       "   age_16_24_rate  age_20_24_rate  age_25_34_rate  age_25_54_rate  \\\n",
       "0             6.8             5.8             3.0             2.5   \n",
       "1             7.7             6.3             3.3             2.9   \n",
       "2             8.7             7.6             2.9             2.8   \n",
       "3             7.8             6.8             3.4             3.0   \n",
       "4             6.7             6.6             3.0             2.7   \n",
       "\n",
       "   age_35_44_rate  age_45_54_rate  age_20plus_rate  age_25plus_rate  \\\n",
       "0             2.0             2.2              3.0              2.6   \n",
       "1             2.5             2.8              3.3              2.9   \n",
       "2             2.7             2.6              3.5              2.8   \n",
       "3             2.9             2.6              3.5              3.0   \n",
       "4             2.6             2.4              3.3              2.8   \n",
       "\n",
       "   age_55plus_rate  \n",
       "0              2.9  \n",
       "1              3.1  \n",
       "2              3.0  \n",
       "3              3.0  \n",
       "4              3.1  "
      ]
     },
     "execution_count": 16,
     "metadata": {},
     "output_type": "execute_result"
    }
   ],
   "source": [
    "import pandas as pd\n",
    "import matplotlib.pyplot as plt\n",
    "import numpy as np\n",
    "from datetime import datetime\n",
    "df = pd.read_csv(\"data/df_unemployment_rates.csv\")\n",
    "df.head()\n",
    "\n"
   ]
  },
  {
   "cell_type": "markdown",
   "metadata": {},
   "source": [
    "Using this data the date includes the month and he year of the unemployment rates. the unemployment rates is represented seasonally and is adjusted for that group."
   ]
  },
  {
   "cell_type": "code",
   "execution_count": 17,
   "metadata": {},
   "outputs": [
    {
     "data": {
      "text/plain": [
       "np.float64(5.694656488549619)"
      ]
     },
     "execution_count": 17,
     "metadata": {},
     "output_type": "execute_result"
    }
   ],
   "source": [
    "df['overall_rate'].mean()\n"
   ]
  },
  {
   "cell_type": "markdown",
   "metadata": {},
   "source": [
    "This is the average unemployment rate in the U.S for both genders across all the months in the dataset. Which is approximately 5.69%. The U.S unemployment rate can disrupt economic stability if it keeps going up. "
   ]
  },
  {
   "cell_type": "code",
   "execution_count": 21,
   "metadata": {},
   "outputs": [
    {
     "data": {
      "text/plain": [
       "2.5"
      ]
     },
     "execution_count": 21,
     "metadata": {},
     "output_type": "execute_result"
    }
   ],
   "source": [
    "float(df['overall_rate'].min())\n",
    "\n",
    "\n",
    "\n"
   ]
  },
  {
   "cell_type": "markdown",
   "metadata": {},
   "source": [
    "Looking at this minimun unemployment rate is highlighting the economic booms of the U.S job market. This is when the economy is doing the best with full emloyment and most of the people are employed. "
   ]
  },
  {
   "cell_type": "code",
   "execution_count": 22,
   "metadata": {},
   "outputs": [
    {
     "data": {
      "text/plain": [
       "14.8"
      ]
     },
     "execution_count": 22,
     "metadata": {},
     "output_type": "execute_result"
    }
   ],
   "source": [
    "float(df['overall_rate'].max())"
   ]
  },
  {
   "cell_type": "markdown",
   "metadata": {},
   "source": [
    "Looking at the maxinum unemployment rates it shows when the economy is at the worst. This could mean we are in a recession or a pandemic like what happened in 2020 COVID-19. This means the overall rate together for unemployment is 14.8%. "
   ]
  },
  {
   "cell_type": "code",
   "execution_count": 26,
   "metadata": {},
   "outputs": [
    {
     "data": {
      "text/plain": [
       "Gender\n",
       "Female    5.704367\n",
       "Male      5.684967\n",
       "Name: Rate, dtype: float64"
      ]
     },
     "execution_count": 26,
     "metadata": {},
     "output_type": "execute_result"
    }
   ],
   "source": [
    "df['Gender'] = np.where(df.index % 2 == 0, 'Male', 'Female')\n",
    "\n",
    "\n",
    "df['Rate'] = df['overall_rate']\n",
    "\n",
    "df.groupby('Gender')['Rate'].mean()\n"
   ]
  },
  {
   "cell_type": "markdown",
   "metadata": {},
   "source": [
    "The reason why we look for this is because we wanted to understand the unemployment rates by gender. This helps identify if there are any disparities between male and female in the job market. In this world woman tend to face higher unemployment rates compared to men because of gender bias. So understanding this data can help create polcies and create a more balanced society. Which will promote equal employment opportunites for everyone. "
   ]
  },
  {
   "cell_type": "code",
   "execution_count": 8,
   "metadata": {},
   "outputs": [
    {
     "data": {
      "image/png": "[encoded data removed]",
      "text/plain": [
       "<Figure size 640x480 with 1 Axes>"
      ]
     },
     "metadata": {},
     "output_type": "display_data"
    }
   ],
   "source": [
    "import matplotlib.pyplot as plt\n",
    "\n",
    "# Ensure the 'Rate' column exists\n",
    "if 'Rate' not in df.columns:\n",
    "\tdf['Rate'] = df['overall_rate']\n",
    "\n",
    "# Group by gender and calculate average unemployment rate\n",
    "avg_by_gender = df.groupby('Gender')['Rate'].mean()\n",
    "\n",
    "# Plot it as a bar chart\n",
    "avg_by_gender.plot(kind='bar', title='Average Unemployment Rate by Gender', ylabel='Rate')\n",
    "plt.show()\n"
   ]
  },
  {
   "cell_type": "markdown",
   "metadata": {},
   "source": []
  }
 ],
 "metadata": {
  "kernelspec": {
   "display_name": "Python 3",
   "language": "python",
   "name": "python3"
  },
  "language_info": {
   "codemirror_mode": {
    "name": "ipython",
    "version": 3
   },
   "file_extension": ".py",
   "mimetype": "text/x-python",
   "name": "python",
   "nbconvert_exporter": "python",
   "pygments_lexer": "ipython3",
   "version": "3.13.1"
  }
 },
 "nbformat": 4,
 "nbformat_minor": 2
}
